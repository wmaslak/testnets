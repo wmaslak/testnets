{
 "cells": [
  {
   "cell_type": "markdown",
   "id": "eae52446-b9ec-4927-bc0f-86839f45bd97",
   "metadata": {},
   "source": [
    "# Image Classification: beyond simple CNNs\n",
    "\n",
    "## Introduction\n",
    "\n",
    "In the field of computer vision, especially in image recognition and classification, Convolutional Neural Networks (CNN) are second to none. \n",
    "\n",
    "## Aim\n",
    "\n",
    "Aim of this project is to compare several CNN architectures in terrm of their speed and accuracy.\n",
    "\n",
    "## Method\n",
    "\n",
    "The models were trained in 100 epochs with SGD optimizer and a learning rate that was cosine-annealed to zero in the training process. The objective loss function was cross-entropy. Th emodels were train on a GPU (dedicated graphic card) using the NVIDIA CUDA backend.\n",
    "\n",
    "Models implementations were copied from [here](https://github.com/kuangliu/pytorch-cifar/) and the whole training process was performed in the train_test_net.py script. In the script the appropriate functions which are showcased in this notebook are defined and actually used.\n",
    "\n",
    "Then the obtained nets were compared on the validation datasets and the results were presented. \n",
    "\n",
    "### Models used\n",
    "\n",
    "#### ResNet\n",
    "\n",
    "Residual Networks constitute a true breakthrough in computer vision. It's use allowed to train networks that were deeper than ever before.\n",
    "Before ResNets, increasing accuracy of a network could pretty much be achieved only through stacking additional convolutional blocks over one another.\n",
    "The increased accurasy came at huge cost of training time and often faced the vanishing-gradient problem. The vanishing gradient problem is an issue that occurs when, in a deep network, the back propagation causes the gradient of the objective finctions to become zero (vanish) which prevents the signal to be propagated to the feature layers at the beginning of chain of layers. \n",
    "\n",
    "A simple but genious solution was to use the so called skip link (or identity connection) depicted below.\n",
    "\n",
    "\n",
    "![image.png](https://miro.medium.com/max/608/1*_T6ybgHUoxj8rJq_Dc1nsw.jpeg)\n",
    "\n",
    "The main point of introducing this link is that, instead of expecting the stacked layers to learn the approximate the function H(x), which we do in normal stacked convolutional neural network, we let the layers to approximate the residual function $F(x) = H(x) - x$\n",
    "\n",
    "This approach solves the vanishing-gradient problem i.e. even if $H(x)$ becomes zero, the network will atleast learn $x$ (since $F(x) = H(x) — x$) i.e. it saves the gradients from vanishing. As a result of this, the gradients reach the input layers and the weights are updated which helps the network to learn better and hence accuracy of the network increases.\n",
    "\n",
    "The chart below depicts a typical ResNet architecture. In the project two ResNets with 18 and 50 layers were trained.\n",
    "\n",
    "![img.png](https://www.researchgate.net/publication/336642248/figure/fig1/AS:839151377203201@1577080687133/Original-ResNet-18-Architecture.png)\n",
    "\n",
    "\n",
    "\n",
    "#### DenseNet\n",
    "**Dense Convolutional Network (DenseNet)**, connects each layer to every other layer in a feed-forward fashion. Whereas traditional convolutional networks with L layers have L connections - one between each layer and its subsequent layer - this network has L(L+1)/2 direct connections. For each layer, the feature-maps of all preceding layers are used as inputs, and its own feature-maps are used as inputs into all subsequent layers. DenseNets have several compelling advantages: they alleviate the vanishing-gradient problem, strengthen feature propagation, encourage feature reuse, and substantially reduce the number of parameters.\n",
    "\n",
    "![image.png](https://pytorch.org/assets/images/densenet1.png)\n",
    "#### GoogleNet\n",
    "\n",
    "The crux of this architecture is the so called inception module. As authors in the original paper rwite, it was inspired by the Hebbian principle from human learning which says that “neurons that fire together, wire together”. It essentialy boils down to using many convolitional windows of different sizes whose outputs are later concatenated into one vector instead of just one concolutional layer. In this way the network can learn not only apropriate weight in the convolution layer but also the appropriate size of the filter. The layer may simply \"switch off\" a given size of the filter by setting the corresponding weight to 0. \n",
    "![img.png](https://pytorch.org/assets/images/googlenet1.png)\n",
    "\n",
    "\n",
    "To see why this is usefull suppose, for example, a layer in our deep learning model has learned to focus on individual parts of a face. The next layer of the network would probably focus on the overall face in the image to identify the different objects present there. Now to actually do this, the layer should have the appropriate filter sizes to detect different objects.\n",
    "\n",
    "This is where the inception layer comes to the fore. It allows the internal layers to pick and choose which filter size will be relevant to learn the required information. So even if the size of the face in the image is different, the layer works accordingly to recognize the face.\n",
    "\n",
    "Below a GoogleNett architecture is shown.\n",
    "\n",
    "![img.png](https://pytorch.org/assets/images/googlenet2.png)\n",
    "\n",
    "\n",
    "#### MobileNet\n",
    "\n",
    "In MobileNets the architecture rests on the idea of depthwise separable convolution. Generally separable convolution means using properties of matrices to decompose a convolution filter as a product of lower-dimension matrices or vectors. This allows to reduce the number of parameters to train as well as the number of multiplications and additions in the training process.\n",
    "\n",
    "Example of filter separation of Sobel filter used to detect edges is shown below:\n",
    "\n",
    "![img.png](https://miro.medium.com/max/1400/1*r4MjVvb2rehlIzpTKZdhcA.png)\n",
    "\n",
    "The depthwise separable convolution is a depthwise convolution followed by a pointwise convolution. Depthwise means that we scan the image separately in each of the channels. For instance, in an RGB image, we would have 3 convolutions of each kind. The pointwise convolution is used to retirieve the original image so it is actually of dimension 1x1xD, where D is the number of channels (D=3 in the RGB example).\n",
    "\n",
    "This idea allows MobileNets to be really fast and lightweight with relatively little sacrifice in terms of accuracy.\n",
    "\n",
    "![img.png](https://miro.medium.com/max/1400/1*Voah8cvrs7gnTDf6acRvDw.png)\n",
    "\n",
    "#### ResNext\n",
    "\n",
    "The ResNeXt architecture is an extension of the deep residual network which replaces the standard residual block with one that leverages a \"split-transform-merge\" strategy (ie. branched paths within a cell) used in the Inception models. Simply, rather than performing convolutions over the full input feature map, the block's input is projected into a series of lower (channel) dimensional representations of which we separately apply a few convolutional filters before merging the results. In other words, with comparison to Inception module, the ResNext module splits the input by applying channel-wise convolution rather then differentiaion the sizes of the filters as it occurs in case of GoogleNet. \n",
    "\n",
    "The ResNeXt architecture simply mimicks the ResNet models, replacing the ResNet blocks for the ResNeXt block which is shown below.\n",
    "\n",
    "![img.png](https://www.jeremyjordan.me/content/images/2018/04/Screen-Shot-2018-04-19-at-12.08.53-AM.png)\n",
    "\n",
    "#### VGG\n",
    "**VGG** stands for Visual Geometry Group at Oxford University because its creators are associated with this institution. \n",
    "This architecture consists if 16 weight layers (13 Convolution layers and 3 Fully Connected layers) with only 3x3 feature detectors or filters. The idea behind VGG net is that, as the depth of the network increases, we would increase the number of feature maps (the convolutions). In short, as we go deeper into the network, the number of feature maps increases, so the network becomes wider. This is actually the \"oldest\" architecture trained in this project.\n",
    "\n",
    "![image.png](https://miro.medium.com/max/1400/1*_Lg1i7wv1pLpzp2F4MLrvw.png)\n",
    "\n"
   ]
  },
  {
   "cell_type": "markdown",
   "id": "f0cb6221-a962-48c8-9502-be2c6d5d38b7",
   "metadata": {},
   "source": [
    "### Training procedure\n",
    "\n",
    "In this section the training procedure along with the appropriate functions are briefly outlined."
   ]
  },
  {
   "cell_type": "code",
   "execution_count": 6,
   "id": "1fdf440d-3c9e-40e4-8b51-e9e50a711ec2",
   "metadata": {},
   "outputs": [],
   "source": [
    "import torch\n",
    "from glob import glob\n",
    "import torchvision\n",
    "import torchvision.transforms as transforms\n",
    "from torchvision import datasets\n",
    "from models import *\n",
    "\n",
    "import torch.nn as nn\n",
    "import torch.optim as optim\n",
    "import torch.nn.functional as F\n",
    "import torch.backends.cudnn as cudnn\n",
    "\n",
    "import torchvision\n",
    "import torchvision.transforms as transforms\n",
    "from torchvision import datasets\n",
    "import os\n",
    "import argparse\n",
    "\n",
    "from models import *\n",
    "from utils import progress_bar\n",
    "\n",
    "import pandas as pd\n",
    "import numpy as np\n",
    "import matplotlib.pyplot as plt\n",
    "plt.rcParams['figure.figsize'] = [25, 12]"
   ]
  },
  {
   "cell_type": "markdown",
   "id": "fa6de357-5be6-47e2-8f29-9a247ccfded5",
   "metadata": {},
   "source": [
    "#### Dataloaders\n",
    "\n",
    "The cell below presents PyTorch Dataloaders that were used. The Dataloaders simply feed the specified data to the neural net and preprocess it on the fly using predefined transformers.\n",
    "\n",
    "The *train transformations* were standard cropping , horizontal random flip (which reduces overfitting), transforming image to tensor, normalization of the channels and shuffling.\n",
    "\n",
    "The *test transformations* were simply transformation to tensor and normalization. "
   ]
  },
  {
   "cell_type": "code",
   "execution_count": null,
   "id": "1a2bded7-11b0-487a-a2e8-fb791a6d5a2c",
   "metadata": {},
   "outputs": [],
   "source": [
    " cinic_mean_RGB = (0.47889522, 0.47227842, 0.43047404)\n",
    "    cinic_std_RGB = (0.24205776, 0.23828046, 0.25874835)\n",
    "\n",
    "    # define transformations\n",
    "    transform_train = transforms.Compose([\n",
    "        transforms.RandomCrop(32, padding=4),\n",
    "        transforms.RandomHorizontalFlip(),\n",
    "        transforms.ToTensor(),\n",
    "        transforms.Normalize(cinic_mean_RGB, cinic_std_RGB),\n",
    "    ])\n",
    "\n",
    "    transform_test = transforms.Compose([\n",
    "        transforms.ToTensor(),\n",
    "        transforms.Normalize(cinic_mean_RGB, cinic_std_RGB),\n",
    "    ])\n",
    "\n",
    "    # define datasets\n",
    "    trainset = datasets.ImageFolder(cinic_directory + '/train',transform=transform_train)\n",
    "    testset = datasets.ImageFolder(cinic_directory + '/test',transform=transform_test)\n",
    "\n",
    "    # define DataLoaders\n",
    "    trainloader = torch.utils.data.DataLoader(\n",
    "        trainset, batch_size=64, shuffle=True, num_workers=2)\n",
    "\n",
    "    testloader = torch.utils.data.DataLoader(\n",
    "        testset, batch_size=64, shuffle=False, num_workers=2)\n"
   ]
  },
  {
   "cell_type": "markdown",
   "id": "c9b16501-298e-482a-bec7-05238896438b",
   "metadata": {},
   "source": [
    "Train and test functions are standard ones and can be viewed in the training script. The best accuracy was updated whenever accuracy achieved within epoch was higher than the currently best value. In such case, the model and the value were saved in an apropriate checkpoint. For each net, the training time was measured."
   ]
  },
  {
   "cell_type": "markdown",
   "id": "b14420cc-a549-456b-9494-38893b10f918",
   "metadata": {},
   "source": [
    "## Summary of results"
   ]
  },
  {
   "cell_type": "markdown",
   "id": "c0674b21-781e-4de1-be4d-70ab3f61ae8e",
   "metadata": {},
   "source": [
    "### Loading the models"
   ]
  },
  {
   "cell_type": "code",
   "execution_count": 7,
   "id": "6b2b5674-cd0b-4e5c-ad34-35d06cba9642",
   "metadata": {},
   "outputs": [
    {
     "data": {
      "text/plain": [
       "['../scripts/checkpoint_densenet121',\n",
       " '../scripts/checkpoint_googlenet',\n",
       " '../scripts/checkpoint_mobilenet',\n",
       " '../scripts/checkpoint_ResNet',\n",
       " '../scripts/checkpoint_resnet50',\n",
       " '../scripts/checkpoint_resnext',\n",
       " '../scripts/checkpoint_vgg']"
      ]
     },
     "execution_count": 7,
     "metadata": {},
     "output_type": "execute_result"
    }
   ],
   "source": [
    "trained_models_pth = '../scripts/'\n",
    "all_dirs = glob(trained_models_pth+'*/', recursive = True)\n",
    "model_names = [di[di.find('int_')+4:-1] for di in all_dirs if di.find('int_') > 0 and di[di.find('int_')+4:-1] != 'dpn']\n",
    "model_dirs = [trained_models_pth+'checkpoint_'+name for name in model_names]\n",
    "model_dirs"
   ]
  },
  {
   "cell_type": "markdown",
   "id": "6f443832-32c2-4382-b4b7-9335832828c2",
   "metadata": {},
   "source": [
    "### Getting the best training scores on the test set"
   ]
  },
  {
   "cell_type": "code",
   "execution_count": 8,
   "id": "185f668d-01d0-4c70-bac5-a82e5517211d",
   "metadata": {},
   "outputs": [],
   "source": [
    "def get_acc_scores(model_dirs, model_names):\n",
    "    scores = {}\n",
    "    for model, model_dir in zip(model_names,model_dirs):\n",
    "        ckp = torch.load(model_dir+'/ckpt.pth')\n",
    "        scores[model] = ckp['acc']\n",
    "        \n",
    "    return(scores)\n",
    "train_scores = get_acc_scores(model_dirs,model_names)"
   ]
  },
  {
   "cell_type": "code",
   "execution_count": 9,
   "id": "4ae246eb-4a56-4cd1-8cec-cbfa3ede79c2",
   "metadata": {},
   "outputs": [
    {
     "data": {
      "text/plain": [
       "{'densenet121': 73.46555555555555,\n",
       " 'googlenet': 69.50666666666666,\n",
       " 'mobilenet': 58.163333333333334,\n",
       " 'ResNet': 74.73555555555555,\n",
       " 'resnet50': 72.33,\n",
       " 'resnext': 73.31222222222222,\n",
       " 'vgg': 67.21222222222222}"
      ]
     },
     "execution_count": 9,
     "metadata": {},
     "output_type": "execute_result"
    }
   ],
   "source": [
    "train_scores"
   ]
  },
  {
   "cell_type": "markdown",
   "id": "7c382617-90bd-42e7-bcd3-eaa3f11d3ac4",
   "metadata": {},
   "source": [
    "### Getting scores on validation dataset"
   ]
  },
  {
   "cell_type": "code",
   "execution_count": 10,
   "id": "e6112120-d2e8-4494-b0b3-9aaafc673585",
   "metadata": {},
   "outputs": [],
   "source": [
    "cinic_mean_RGB = (0.47889522, 0.47227842, 0.43047404)\n",
    "cinic_std_RGB = (0.24205776, 0.23828046, 0.25874835)\n",
    "\n",
    "transform_val = transforms.Compose([\n",
    "    transforms.ToTensor(),\n",
    "    transforms.Normalize(cinic_mean_RGB, cinic_std_RGB),\n",
    "])\n",
    "\n",
    "cinic_directory = \"../data\"\n",
    "\n",
    "\n",
    "valset = datasets.ImageFolder(cinic_directory + '/valid',transform=transform_val)\n",
    "\n",
    "valloader = torch.utils.data.DataLoader(\n",
    "    valset, batch_size=64, shuffle=False, num_workers=2)"
   ]
  },
  {
   "cell_type": "code",
   "execution_count": 11,
   "id": "14e35e9c-b203-48f9-b2f9-b5646dd9f2d1",
   "metadata": {},
   "outputs": [],
   "source": [
    "def validate_net(net):\n",
    "    \n",
    "    device = 'cuda' if torch.cuda.is_available() else 'cpu'\n",
    "    if device == 'cuda':\n",
    "        torch.cuda.empty_cache()\n",
    "        net = torch.nn.DataParallel(net)\n",
    "        cudnn.benchmark = True\n",
    "    \n",
    "    criterion = nn.CrossEntropyLoss()\n",
    "#     optimizer = optim.SGD(net.parameters(), lr=args.lr,\n",
    "#                           momentum=0.9, weight_decay=5e-4)\n",
    "#     scheduler = torch.optim.lr_scheduler.CosineAnnealingLR(optimizer, T_max=200)\n",
    "    \n",
    "    net = net.to(device)\n",
    "    net.eval()\n",
    "    test_loss = 0\n",
    "    correct = 0\n",
    "    total = 0\n",
    "    with torch.no_grad():\n",
    "        for batch_idx, (inputs, targets) in enumerate(valloader):\n",
    "            inputs, targets = inputs.to(device), targets.to(device)\n",
    "            outputs = net(inputs)\n",
    "            loss = criterion(outputs, targets)\n",
    "\n",
    "            test_loss += loss.item()\n",
    "            _, predicted = outputs.max(1)\n",
    "            total += targets.size(0)\n",
    "            correct += predicted.eq(targets).sum().item()\n",
    "\n",
    "            progress_bar(batch_idx, len(valloader), 'Loss: %.3f | Acc: %.3f%% (%d/%d)'\n",
    "                         % (test_loss/(batch_idx+1), 100.*correct/total, correct, total))\n",
    "    return(100.*correct/total)"
   ]
  },
  {
   "cell_type": "code",
   "execution_count": 12,
   "id": "c90ba09c-515d-4ec2-a4a4-46b2a4c855c0",
   "metadata": {},
   "outputs": [],
   "source": [
    "nets=[DenseNet121(),GoogLeNet(),MobileNet(),ResNet18(),ResNet50(),ResNeXt29_2x64d(),VGG('VGG19')]"
   ]
  },
  {
   "cell_type": "code",
   "execution_count": null,
   "id": "28199c9d-c9b8-4e12-a620-4cc229966260",
   "metadata": {},
   "outputs": [],
   "source": [
    "val_scores = {}\n",
    "for net, model_name, model_dir in zip(nets,model_names,model_dirs):\n",
    "    print(f\"Loading model {model_name} from {model_dir}...\")\n",
    "    device = 'cuda' if torch.cuda.is_available() else 'cpu'\n",
    "    if device == 'cuda':\n",
    "        torch.cuda.empty_cache()\n",
    "        net = torch.nn.DataParallel(net)\n",
    "        cudnn.benchmark = True\n",
    "    checkpoint = torch.load(model_dir+'/ckpt.pth')\n",
    "    #checkpoint['net']\n",
    "    # net.load_state_dict(checkpoint['net'])\n",
    "    net.load_state_dict(checkpoint['net'])\n",
    "    val_scores[model_name] = validate_net(net)"
   ]
  },
  {
   "cell_type": "markdown",
   "id": "60b57dcc-32cf-42c3-8d34-2f41ca885d71",
   "metadata": {},
   "source": [
    "### Getting the training times from the saved textfiles"
   ]
  },
  {
   "cell_type": "code",
   "execution_count": 14,
   "id": "b01d137e-8656-4e2c-ae84-681a8b766a7f",
   "metadata": {},
   "outputs": [
    {
     "data": {
      "text/plain": [
       "{'densenet121': 39697,\n",
       " 'googlenet': 40200,\n",
       " 'mobilenet': 15914,\n",
       " 'ResNet': 13822,\n",
       " 'resnet50': 41158,\n",
       " 'resnext': 36990,\n",
       " 'vgg': 14470}"
      ]
     },
     "execution_count": 14,
     "metadata": {},
     "output_type": "execute_result"
    }
   ],
   "source": [
    "time_scores = {model_name:0 for model_name in model_names}\n",
    "time_scores['densenet121'] = 39697\n",
    "time_scores['googlenet'] = 40200\n",
    "time_scores['mobilenet'] = 15914\n",
    "time_scores['ResNet'] = 13822\n",
    "time_scores['resnet50'] = 41158\n",
    "time_scores['resnext'] = 36990\n",
    "time_scores['vgg'] = 14470\n",
    "\n",
    "time_scores"
   ]
  },
  {
   "cell_type": "markdown",
   "id": "44a4eb83-6b2b-4b14-b654-34d5aa07075a",
   "metadata": {},
   "source": [
    "### Visualizing the results"
   ]
  },
  {
   "cell_type": "code",
   "execution_count": 15,
   "id": "8a4de30e-faf5-4428-a935-a2d0689f3764",
   "metadata": {},
   "outputs": [],
   "source": [
    "df_dict = {'name':model_names, \n",
    "           'time':list(time_scores.values()),\n",
    "           'train_score' : list(train_scores.values()),\n",
    "           'val_score' : list(val_scores.values())}\n",
    "df = pd.DataFrame(df_dict)\n",
    "df['time'] = df['time']/3600\n",
    "df.to_csv('fin_df.csv')"
   ]
  },
  {
   "cell_type": "code",
   "execution_count": 16,
   "id": "645ddb07-089a-43e7-81f3-e65a10effd4d",
   "metadata": {},
   "outputs": [],
   "source": [
    "\n",
    "plt.rcParams['figure.figsize'] = [8, 5]"
   ]
  },
  {
   "cell_type": "markdown",
   "id": "0dc7e23a-30aa-4f26-aa20-cf1a9d8f1b53",
   "metadata": {},
   "source": [
    "### Validation scores"
   ]
  },
  {
   "cell_type": "code",
   "execution_count": 21,
   "id": "1474ff9a-4a2b-438e-a0d8-113e73b02939",
   "metadata": {},
   "outputs": [
    {
     "data": {
      "text/plain": [
       "<AxesSubplot:xlabel='name'>"
      ]
     },
     "execution_count": 21,
     "metadata": {},
     "output_type": "execute_result"
    },
    {
     "data": {
      "image/png": "[encoded data removed]",
      "text/plain": [
       "<Figure size 576x360 with 1 Axes>"
      ]
     },
     "metadata": {
      "needs_background": "light"
     },
     "output_type": "display_data"
    }
   ],
   "source": [
    "df.sort_values('val_score').plot.bar(x='name',y='val_score')\n"
   ]
  },
  {
   "cell_type": "markdown",
   "id": "d546d272-b74b-44c7-9f73-3dc531b1d7e1",
   "metadata": {},
   "source": [
    "### Training time plot  "
   ]
  },
  {
   "cell_type": "code",
   "execution_count": 22,
   "id": "a00b73dc-5147-4719-b9ed-4dffe4267835",
   "metadata": {},
   "outputs": [
    {
     "data": {
      "text/plain": [
       "<AxesSubplot:xlabel='name'>"
      ]
     },
     "execution_count": 22,
     "metadata": {},
     "output_type": "execute_result"
    },
    {
     "data": {
      "image/png": "[encoded data removed]",
      "text/plain": [
       "<Figure size 576x360 with 1 Axes>"
      ]
     },
     "metadata": {
      "needs_background": "light"
     },
     "output_type": "display_data"
    }
   ],
   "source": [
    "df.sort_values('time').plot.bar(x='name',y='time')"
   ]
  },
  {
   "cell_type": "markdown",
   "id": "96b47850-488f-46a2-be5d-cce29868d310",
   "metadata": {},
   "source": [
    "### Time vs. validation score plot"
   ]
  },
  {
   "cell_type": "code",
   "execution_count": 19,
   "id": "a79d7c49-938a-4ea0-9153-74896d0a6da9",
   "metadata": {},
   "outputs": [
    {
     "data": {
      "image/png": "[encoded data removed]",
      "text/plain": [
       "<Figure size 576x360 with 1 Axes>"
      ]
     },
     "metadata": {
      "needs_background": "light"
     },
     "output_type": "display_data"
    }
   ],
   "source": [
    "ax = df.sort_values('time').plot.scatter(x='time',y='val_score')\n",
    "for i, txt in enumerate(df['name']):\n",
    "    ax.annotate(txt, (df['time'][i]-0.2, df['val_score'][i]+0.5))"
   ]
  },
  {
   "cell_type": "markdown",
   "id": "33b9b596-cfa4-4859-b035-4ed93bc01863",
   "metadata": {},
   "source": [
    "### Test vs. validation score plot"
   ]
  },
  {
   "cell_type": "code",
   "execution_count": 29,
   "id": "66fb652a-44f6-4a67-a1cb-f097e8f5a7f3",
   "metadata": {
    "tags": []
   },
   "outputs": [
    {
     "data": {
      "image/png": "[encoded data removed]",
      "text/plain": [
       "<Figure size 576x360 with 1 Axes>"
      ]
     },
     "metadata": {
      "needs_background": "light"
     },
     "output_type": "display_data"
    }
   ],
   "source": [
    "ax = df.sort_values('time').plot.scatter(x='train_score',y='val_score')\n",
    "for i, txt in enumerate(df['name']):\n",
    "    ax.annotate(txt, (df['train_score'][i]-1, df['val_score'][i]+0.4))"
   ]
  },
  {
   "cell_type": "markdown",
   "id": "e47f599f-6137-4e9b-8957-53efc8f3c5b9",
   "metadata": {},
   "source": [
    "### Conclusions\n",
    "\n",
    "We can see that the ResNet architecture was both the fastest to train and the most accurate at the same time. This is a very interesting result, takining into account that it was not the most complicated nor the newest architecture. It is also very interesting to see that The 18-layer version was more accurate on the validation score which indicates the tendency of bigger networks to overfit on simple tasks such as the one in this project.\n",
    "\n",
    "Another interesting observation is that very modern, complicated architectures which took very long to train, were only roughly 5% better in terms of accuracy when compared to the old VGG architecture. This shows that for such (relatively) simple tasks as image classification, the older architectures are still offering good accuracy. \n",
    "\n",
    "When comparing the test vs validation scores wee can see that all the networks present vary good generalizability and that none of them suffered from substantial overfitting.\n",
    "\n",
    "When it comes to the definite looser of this competition, that is the MobileNet, the result could be anticipated. This net was actually designet to be slightly worse than the more computation-heavy equivalents and its primary goal is to be used as a object recognition/detection backend on small devices such as mobile phones\n",
    "\n",
    "## References\n",
    "\n",
    "* PyTorch documentation\n",
    "* https://medium.com/analytics-vidhya/deep-residual-learning-for-image-recognition-resnet-94a9c71334c9\n",
    "* https://www.analyticsvidhya.com/blog/2018/10/understanding-inception-network-from-scratch/\n",
    "* https://towardsdatascience.com/a-basic-introduction-to-separable-convolutions-b99ec3102728\n",
    "* https://medium.com/analytics-vidhya/image-classification-with-mobilenet-cc6fbb2cd470\n",
    "* https://www.jeremyjordan.me/convnet-architectures/\n",
    "* https://github.com/kuangliu/pytorch-cifar/"
   ]
  }
 ],
 "metadata": {
  "kernelspec": {
   "display_name": "Python 3",
   "language": "python",
   "name": "python3"
  },
  "language_info": {
   "codemirror_mode": {
    "name": "ipython",
    "version": 3
   },
   "file_extension": ".py",
   "mimetype": "text/x-python",
   "name": "python",
   "nbconvert_exporter": "python",
   "pygments_lexer": "ipython3",
   "version": "3.9.5"
  }
 },
 "nbformat": 4,
 "nbformat_minor": 5
}
